{
 "cells": [
  {
   "cell_type": "code",
   "execution_count": 6,
   "metadata": {},
   "outputs": [],
   "source": [
    "import requests \n",
    "import re\n",
    "from bs4 import BeautifulSoup \n",
    "import pandas as pd\n",
    "import pymysql\n",
    "import pymongo\n",
    "from config import mongoConn, remote_db_endpoint, remote_db_port, remote_db_name, remote_db_user, remote_db_pwd"
   ]
  },
  {
   "cell_type": "code",
   "execution_count": 17,
   "metadata": {},
   "outputs": [
    {
     "data": {
      "text/plain": [
       "[]"
      ]
     },
     "execution_count": 17,
     "metadata": {},
     "output_type": "execute_result"
    }
   ],
   "source": [
    "conn = 'mongodb://localhost:27017'\n",
    "client = pymongo.MongoClient(mongoConn) \n",
    "db = client.shows_db\n",
    "collection = db.items \n",
    "title_filter = { \n",
    "    \"title\" : {\"$regex\": f'Pulp Fiction', \"$options\" :'i' } #this is like a sql LIKE statement\n",
    "}\n",
    "dict_title = collection.find(title_filter, { '_id': 0 } )\n",
    "df = pd.DataFrame(dict_title)\n",
    "df = df.drop_duplicates(subset='title', keep=\"first\")\n",
    "df"
   ]
  },
  {
   "cell_type": "code",
   "execution_count": null,
   "metadata": {},
   "outputs": [],
   "source": [
    "conn = pymysql.connect(host=f'{remote_db_endpoint}',  user=remote_db_user,  password=remote_db_pwd,  db=remote_db_name) \n",
    "mycursor = conn.cursor() \n",
    "mycursor.execute('SELECT * FROM streamingservices')\n",
    "sdf = pd.DataFrame(mycursor) \n",
    "mycursor.close()\n",
    "conn.close()\n",
    "sdf.rename(columns={0:'Service_ID', 1:'Service_Name', 2:'Service_Type', 3:'Service_Img', 4:'Service_Url'}, inplace=True )\n",
    "sdf.drop(columns=[5,6], inplace=True )\n",
    "sdf"
   ]
  },
  {
   "cell_type": "code",
   "execution_count": null,
   "metadata": {},
   "outputs": [],
   "source": [
    "dic_titles = df.to_dict(orient='records')\n",
    "for title in dic_titles:\n",
    "    title['services_meta'] = []\n",
    "    for service in title['services']:\n",
    "        try:\n",
    "            title['services_meta'].append(sdf.loc[sdf['Service_Name'] == service].to_dict(orient='records')[0])\n",
    "        except:\n",
    "            print(f'{service} meta not found')\n",
    "df = pd.DataFrame(dic_titles)"
   ]
  }
 ],
 "metadata": {
  "kernelspec": {
   "display_name": "Python 3",
   "language": "python",
   "name": "python3"
  },
  "language_info": {
   "codemirror_mode": {
    "name": "ipython",
    "version": 3
   },
   "file_extension": ".py",
   "mimetype": "text/x-python",
   "name": "python",
   "nbconvert_exporter": "python",
   "pygments_lexer": "ipython3",
   "version": "3.8.3"
  }
 },
 "nbformat": 4,
 "nbformat_minor": 4
}
